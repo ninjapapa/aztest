{
 "cells": [
  {
   "cell_type": "markdown",
   "metadata": {},
   "source": [
    "# SMV APP - "
   ]
  },
  {
   "cell_type": "code",
   "execution_count": null,
   "metadata": {},
   "outputs": [],
   "source": [
    "from smv import SmvApp\n",
    "from smv.smvconfig import SmvConfig\n",
    "import pyspark.sql.functions as F\n",
    "import pyspark.sql.types as T\n",
    "\n",
    "sc.setLogLevel(\"ERROR\")\n",
    "smv_args = [\n",
    "    \"--smv-app-dir\",\n",
    "    \"/home/bzhang/aztest\",\n",
    "]\n",
    "smvconf = SmvConfig(smv_args)\n",
    "app = SmvApp.createInstance(smvconf, spark)\n",
    "\n",
    "# Loading smvshell tools\n",
    "# To see help:\n",
    "#   > help(smv.smvshell)\n",
    "from smv.smvshell import *"
   ]
  },
  {
   "cell_type": "code",
   "execution_count": null,
   "metadata": {},
   "outputs": [],
   "source": [
    "# List modules\n",
    "ls()"
   ]
  },
  {
   "cell_type": "code",
   "execution_count": null,
   "metadata": {},
   "outputs": [],
   "source": [
    "# Resolve a module to DataFrame\n",
    "ebs = fullRun('EmploymentByState')"
   ]
  }
 ],
 "metadata": {
  "language_info": {
   "name": "python"
  }
 },
 "nbformat": 4,
 "nbformat_minor": 1
}
